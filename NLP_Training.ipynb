{
  "nbformat": 4,
  "nbformat_minor": 0,
  "metadata": {
    "colab": {
      "name": "NLP Training",
      "provenance": [],
      "authorship_tag": "ABX9TyO6mnx4EwMqvZQl1bXtANPC",
      "include_colab_link": true
    },
    "kernelspec": {
      "name": "python3",
      "display_name": "Python 3"
    },
    "language_info": {
      "name": "python"
    }
  },
  "cells": [
    {
      "cell_type": "markdown",
      "metadata": {
        "id": "view-in-github",
        "colab_type": "text"
      },
      "source": [
        "<a href=\"https://colab.research.google.com/github/Sahana12sree/NLP/blob/main/NLP_Training.ipynb\" target=\"_parent\"><img src=\"https://colab.research.google.com/assets/colab-badge.svg\" alt=\"Open In Colab\"/></a>"
      ]
    },
    {
      "cell_type": "code",
      "execution_count": null,
      "metadata": {
        "id": "Py36-fbFRci4"
      },
      "outputs": [],
      "source": [
        "text=\"my name is sahanasri\""
      ]
    },
    {
      "cell_type": "code",
      "source": [
        "text.split()"
      ],
      "metadata": {
        "colab": {
          "base_uri": "https://localhost:8080/"
        },
        "id": "NvW3quLLSFvF",
        "outputId": "2422041a-9208-4ff6-e5f4-e9856282a205"
      },
      "execution_count": null,
      "outputs": [
        {
          "output_type": "execute_result",
          "data": {
            "text/plain": [
              "['my', 'name', 'is', 'sahanasri']"
            ]
          },
          "metadata": {},
          "execution_count": 26
        }
      ]
    },
    {
      "cell_type": "code",
      "source": [
        "text=\"my name is sahana sri.I am studying in bit\""
      ],
      "metadata": {
        "id": "8TNEr9wYSYLo"
      },
      "execution_count": null,
      "outputs": []
    },
    {
      "cell_type": "markdown",
      "source": [
        "using regex\n"
      ],
      "metadata": {
        "id": "vZ_HuywRTrR7"
      }
    },
    {
      "cell_type": "code",
      "source": [
        "text.split('.')"
      ],
      "metadata": {
        "colab": {
          "base_uri": "https://localhost:8080/"
        },
        "id": "cl2vYgfZS4rH",
        "outputId": "a096e4e6-b747-49c2-e68a-e160e7ca4c5b"
      },
      "execution_count": null,
      "outputs": [
        {
          "output_type": "execute_result",
          "data": {
            "text/plain": [
              "['my name is sahana sri', 'I am studying in bit']"
            ]
          },
          "metadata": {},
          "execution_count": 28
        }
      ]
    },
    {
      "cell_type": "code",
      "source": [
        "import re"
      ],
      "metadata": {
        "id": "GmS3XaNFTglw"
      },
      "execution_count": null,
      "outputs": []
    },
    {
      "cell_type": "code",
      "execution_count": null,
      "metadata": {
        "id": "O3eYLyBdTT7W"
      },
      "outputs": [],
      "source": [
        "text=\"who are you?my name is sahanasri\""
      ]
    },
    {
      "cell_type": "code",
      "source": [
        "text = re.compile('[?.]').split(text)"
      ],
      "metadata": {
        "id": "yQbO7secTfYN"
      },
      "execution_count": null,
      "outputs": []
    },
    {
      "cell_type": "code",
      "source": [
        "text\n"
      ],
      "metadata": {
        "colab": {
          "base_uri": "https://localhost:8080/"
        },
        "id": "jMQXHz2rT9S9",
        "outputId": "ee2b3587-6edb-4492-e6e6-30f076342bc8"
      },
      "execution_count": null,
      "outputs": [
        {
          "output_type": "execute_result",
          "data": {
            "text/plain": [
              "['who are you', 'my name is sahanasri']"
            ]
          },
          "metadata": {},
          "execution_count": 32
        }
      ]
    },
    {
      "cell_type": "code",
      "source": [
        "import nltk"
      ],
      "metadata": {
        "id": "7DUaw6S1U7lT"
      },
      "execution_count": null,
      "outputs": []
    },
    {
      "cell_type": "code",
      "source": [
        "from nltk.tokenize import word_tokenize"
      ],
      "metadata": {
        "id": "wZRa-Y8PVFR2"
      },
      "execution_count": null,
      "outputs": []
    },
    {
      "cell_type": "code",
      "source": [
        "nltk.download('punkt')"
      ],
      "metadata": {
        "colab": {
          "base_uri": "https://localhost:8080/"
        },
        "id": "KB9pI6dfVLf8",
        "outputId": "da8ebdb0-4531-4e9d-f7a8-0f92247c9c2d"
      },
      "execution_count": null,
      "outputs": [
        {
          "output_type": "stream",
          "name": "stdout",
          "text": [
            "[nltk_data] Downloading package punkt to /root/nltk_data...\n",
            "[nltk_data]   Package punkt is already up-to-date!\n"
          ]
        },
        {
          "output_type": "execute_result",
          "data": {
            "text/plain": [
              "True"
            ]
          },
          "metadata": {},
          "execution_count": 37
        }
      ]
    },
    {
      "cell_type": "code",
      "execution_count": null,
      "metadata": {
        "id": "itvV1pJaWR3z"
      },
      "outputs": [],
      "source": [
        "sentence =\"who are you?my name is sahanasri.i am studying in bit\""
      ]
    },
    {
      "cell_type": "code",
      "source": [
        "\n",
        "word_tokenize(sentence)"
      ],
      "metadata": {
        "colab": {
          "base_uri": "https://localhost:8080/"
        },
        "id": "5_DqKg81Vop1",
        "outputId": "43eecd39-f373-477a-c347-b997e60a41d2"
      },
      "execution_count": null,
      "outputs": [
        {
          "output_type": "execute_result",
          "data": {
            "text/plain": [
              "['who',\n",
              " 'are',\n",
              " 'you',\n",
              " '?',\n",
              " 'my',\n",
              " 'name',\n",
              " 'is',\n",
              " 'sahanasri.i',\n",
              " 'am',\n",
              " 'studying',\n",
              " 'in',\n",
              " 'bit']"
            ]
          },
          "metadata": {},
          "execution_count": 44
        }
      ]
    },
    {
      "cell_type": "code",
      "source": [
        "from nltk.tokenize import stem_tokenize"
      ],
      "metadata": {
        "id": "Hg8InZ3WW99F"
      },
      "execution_count": null,
      "outputs": []
    },
    {
      "cell_type": "markdown",
      "source": [
        "stemming"
      ],
      "metadata": {
        "id": "ZJ2HP70lXPrH"
      }
    },
    {
      "cell_type": "code",
      "source": [
        "from nltk.stem import Porterstemmer"
      ],
      "metadata": {
        "id": "sMD9INv3XQxD"
      },
      "execution_count": null,
      "outputs": []
    },
    {
      "cell_type": "code",
      "source": [
        "porter = PorterStemmer()"
      ],
      "metadata": {
        "id": "HC3lEEHEXYUC"
      },
      "execution_count": null,
      "outputs": []
    },
    {
      "cell_type": "code",
      "source": [
        "words =['wait','waiting','waited','waits']"
      ],
      "metadata": {
        "id": "FshkumbeXfUl"
      },
      "execution_count": null,
      "outputs": []
    },
    {
      "cell_type": "code",
      "source": [
        "for word in words:\n",
        "    print(word,\"-->\"porter.stem)"
      ],
      "metadata": {
        "id": "ALJNT4afXydJ"
      },
      "execution_count": null,
      "outputs": []
    }
  ]
}